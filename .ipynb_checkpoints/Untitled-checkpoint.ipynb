{
 "cells": [
  {
   "cell_type": "code",
   "execution_count": 1,
   "id": "a9fc4438-59f4-491e-8cb6-4b87e19c1b04",
   "metadata": {},
   "outputs": [
    {
     "name": "stdout",
     "output_type": "stream",
     "text": [
      "2\n"
     ]
    }
   ],
   "source": [
    "a = 1 + 1\n",
    "print(a)"
   ]
  },
  {
   "cell_type": "code",
   "execution_count": 2,
   "id": "bbef800e-4186-4109-ad04-dc145c148a5d",
   "metadata": {},
   "outputs": [],
   "source": [
    "import requests"
   ]
  },
  {
   "cell_type": "code",
   "execution_count": 7,
   "id": "2cdcc985-6f24-4a73-a9a6-b3965ba132f7",
   "metadata": {},
   "outputs": [],
   "source": [
    "text = requests.get('https://www.e1.ru/text/').text"
   ]
  },
  {
   "cell_type": "code",
   "execution_count": 8,
   "id": "dee49d1a-fa4e-43c8-8881-536c03a6ab86",
   "metadata": {},
   "outputs": [],
   "source": [
    "from bs4 import BeautifulSoup as BS\n",
    "\n",
    "soup = BS(text)"
   ]
  },
  {
   "cell_type": "code",
   "execution_count": 12,
   "id": "d2726109-f3b3-4bf5-ba13-636e5be100a0",
   "metadata": {},
   "outputs": [],
   "source": [
    "articles = soup.find_all('article', {'class': 'OPHIx'})"
   ]
  },
  {
   "cell_type": "code",
   "execution_count": 13,
   "id": "7bc0c921-d435-44b8-918e-8ae935c6e842",
   "metadata": {},
   "outputs": [
    {
     "data": {
      "text/plain": [
       "40"
      ]
     },
     "execution_count": 13,
     "metadata": {},
     "output_type": "execute_result"
    }
   ],
   "source": [
    "len(articles)"
   ]
  },
  {
   "cell_type": "code",
   "execution_count": 18,
   "id": "85f78e99-8dca-4655-a636-03ddecac19f6",
   "metadata": {},
   "outputs": [
    {
     "data": {
      "text/plain": [
       "<h2 class=\"h9Jmx\"><a data-test=\"archive-record-header\" href=\"/text/incidents/2024/11/05/74299442/\" target=\"_self\" title=\"Гонял на Porsche без прав. Как наказали автохама, который парализовал движение в Академическом\">Гонял на Porsche без прав. Как наказали автохама, который парализовал движение в Академическом</a></h2>"
      ]
     },
     "execution_count": 18,
     "metadata": {},
     "output_type": "execute_result"
    }
   ],
   "source": [
    "articles[1].find('h2', {'class': 'h9Jmx'})"
   ]
  },
  {
   "cell_type": "code",
   "execution_count": 19,
   "id": "9750698d-1f4d-43ef-b887-042efc380df0",
   "metadata": {},
   "outputs": [
    {
     "data": {
      "text/plain": [
       "'Гонял на Porsche без прав. Как наказали автохама, который парализовал движение в Академическом'"
      ]
     },
     "execution_count": 19,
     "metadata": {},
     "output_type": "execute_result"
    }
   ],
   "source": [
    "articles[1].find('h2', {'class': 'h9Jmx'}).find('a').text"
   ]
  },
  {
   "cell_type": "code",
   "execution_count": 52,
   "id": "5c3a6793-fd76-42cd-abd5-7ee6cc75fa1e",
   "metadata": {},
   "outputs": [
    {
     "name": "stderr",
     "output_type": "stream",
     "text": [
      "<>:5: SyntaxWarning: invalid escape sequence '\\d'\n",
      "<>:5: SyntaxWarning: invalid escape sequence '\\d'\n",
      "/var/folders/cs/_q83y5q12_l815q1j7nj309h0000gn/T/ipykernel_35492/2101999555.py:5: SyntaxWarning: invalid escape sequence '\\d'\n",
      "  views = int(''.join(re.findall('\\d', views)))\n"
     ]
    }
   ],
   "source": [
    "articles_data = []\n",
    "for a in articles:\n",
    "    title = a.find('h2', {'class': 'h9Jmx'}).find('a').text\n",
    "    views = a.find('span', {'class': '_3mETe'}).text\n",
    "    views = int(''.join(re.findall('\\d', views)))\n",
    "    articles_data.append({'title':title, 'views':views })\n",
    "    "
   ]
  },
  {
   "cell_type": "code",
   "execution_count": 53,
   "id": "210e612b-9956-4a15-b337-d822b60a7a39",
   "metadata": {},
   "outputs": [
    {
     "data": {
      "text/plain": [
       "[{'title': '«Большое горе для всех». Как второклассник на Урале утонул в яме с ледяной водой рядом с домом',\n",
       "  'views': 812},\n",
       " {'title': 'Гонял на Porsche без прав. Как наказали автохама, который парализовал движение в Академическом',\n",
       "  'views': 6228},\n",
       " {'title': '«Идите лесом!» В центре Екатеринбурга появилась надпись, посылающая горожан ',\n",
       "  'views': 7288},\n",
       " {'title': 'Рабочий сломал позвоночник. Стали известны подробности обрушения в строящемся детском саду в Екатеринбурге',\n",
       "  'views': 5859},\n",
       " {'title': '«Не сушите на батареях»: советы мастера — как не убить обувь осенью и зимой',\n",
       "  'views': 2637},\n",
       " {'title': '«Папа делает что-то непонятное». В Екатеринбурге отец изнасиловал четырехлетнюю дочь ',\n",
       "  'views': 27098},\n",
       " {'title': 'Начинаем копить: эксперты прогнозируют спад цен на жилье — когда и на сколько подешевеют квартиры',\n",
       "  'views': 3899},\n",
       " {'title': 'На Урал надвигается мощный снегопад и сильный ветер',\n",
       "  'views': 22557},\n",
       " {'title': '«Я понимала, какая это ответственность»: русская учительница рассказала о жизни и работе в Алжире ',\n",
       "  'views': 2807},\n",
       " {'title': 'Пустырь под Макаровским мостом изменили до неузнаваемости. Что там теперь: видео',\n",
       "  'views': 11727},\n",
       " {'title': 'В Екатеринбурге обрушился этаж строящегося детского сада. Под обломками нашли рабочего',\n",
       "  'views': 25878},\n",
       " {'title': 'Никто не может правильно написать эти 10 сложных слов. Думаете, вы справитесь?',\n",
       "  'views': 11028},\n",
       " {'title': 'В центре Екатеринбурга исчезнут наземные парковки. Что появится на их месте?',\n",
       "  'views': 12072},\n",
       " {'title': 'В регионах нашли жилье стоимостью от 100 миллионов рублей — список ',\n",
       "  'views': 3350},\n",
       " {'title': 'Силовики раскрыли подробности убийства в уральском баре: рецидивист с тесаком набросился на посетителя',\n",
       "  'views': 18258},\n",
       " {'title': 'Интерес свердловчан к онлайн-образованию вырос на 57% в сравнении с прошлым годом ',\n",
       "  'views': 1140},\n",
       " {'title': 'Симптомы и признаки пневмонии: чем лечить сухой кашель и как определить опасную болезнь',\n",
       "  'views': 5170},\n",
       " {'title': 'В Екатеринбург съехались киношники со всей России. Они будут учить, как зарабатывать на видео',\n",
       "  'views': 2312},\n",
       " {'title': 'В Екатеринбурге воры в масках ворвались в магазин. Их добычей стали 20 кг сливочного масла',\n",
       "  'views': 21380},\n",
       " {'title': 'Эльмаш в списке лидеров. Изучаем карту участков Екатеринбурга, отданных под перестройку',\n",
       "  'views': 7891},\n",
       " {'title': 'В Екатеринбурге женщина на кроссовере проехалась по пешеходам. Как она это объяснила',\n",
       "  'views': 45649},\n",
       " {'title': '«Могу получать до 150 тысяч в месяц»: как студент-медик завел блог и стал снимать будни врача ',\n",
       "  'views': 5357},\n",
       " {'title': '«Это был мой жесткий косяк»: что известно о скандальных романах Natanа на шоу «Звезды в джунглях»',\n",
       "  'views': 708},\n",
       " {'title': 'Екатеринбурженке сообщили, что на ее дом упадет атомная бомба. Отгадайте, как быстро приехала полиция',\n",
       "  'views': 24426},\n",
       " {'title': 'Шоколад «Аленка» за 500 рублей, молоко — за 2000 и водка — за 2500: прогулялись по русскому магазину в Пекине и изучили ценники',\n",
       "  'views': 8716},\n",
       " {'title': '«Вышел на свободу 4 дня назад». Стало известно, кто хладнокровно зарезал уральца в баре на глазах у всех',\n",
       "  'views': 28331},\n",
       " {'title': 'Автохам на Porsche спешил на работу. Появилось видео аварии в Академическом, из-за которой встали трамваи',\n",
       "  'views': 28383},\n",
       " {'title': 'Заставил голосовать за Ельцина и заплел косу Тимошенко: история коуча Ситникова — он прославился на весь мир с помощью НЛП',\n",
       "  'views': 4559},\n",
       " {'title': 'Инженер Уралвагонзавода передал украинским спецслужбам секретные чертежи. И получил огромный срок',\n",
       "  'views': 25953},\n",
       " {'title': '«Иметь в голове „кусман негатива“ вредно для здоровья». Бизнесмен — о том, как мысли влияют на жизнь',\n",
       "  'views': 4551},\n",
       " {'title': '«Казалось, самое страшное я уже выхватила». Трагичные истории екатеринбуржцев, после которых хочется жить',\n",
       "  'views': 13565},\n",
       " {'title': 'На Урале школьник упал в яму с ледяной водой и погиб: фото',\n",
       "  'views': 28749},\n",
       " {'title': 'Кто останется без работы из-за нейросетей? Сенсационные заявления озвучит московский эксперт',\n",
       "  'views': 7193},\n",
       " {'title': 'Опять пропадает связь! Где екатеринбуржцев чаще всего подстерегают проблемы',\n",
       "  'views': 5505},\n",
       " {'title': 'Будущим новоселам рассказали о скидках больше миллиона рублей, субсидиях и беспроцентной рассрочке',\n",
       "  'views': 1951},\n",
       " {'title': 'На Урале снова раздадут квартиры, машины и мотоциклы. Но не всем',\n",
       "  'views': 23124},\n",
       " {'title': 'Три переезда и два страшных пожара. Как у Екатеринбурга появился свой цирк',\n",
       "  'views': 9203},\n",
       " {'title': 'Сухой закон на Вологодчине. Простор для самогоноварения или отказ от спиртного?',\n",
       "  'views': 5960},\n",
       " {'title': 'В Академическом белый Porsche разнес шумовой экран и парализовал движение трамваев: фото',\n",
       "  'views': 26283},\n",
       " {'title': 'Страшно. Красиво. Как блогер из Екатеринбурга отдыхала в Крыму под звуки выстрелов',\n",
       "  'views': 19334}]"
      ]
     },
     "execution_count": 53,
     "metadata": {},
     "output_type": "execute_result"
    }
   ],
   "source": [
    "articles_data"
   ]
  },
  {
   "cell_type": "code",
   "execution_count": 43,
   "id": "1a4077bf-bb77-4bce-a0d9-9e6137f052b0",
   "metadata": {},
   "outputs": [],
   "source": [
    "a = articles[1].find('span', {'class': '_3mETe'}).text"
   ]
  },
  {
   "cell_type": "code",
   "execution_count": 40,
   "id": "d5009fe4-0dd3-4e9d-9118-ed509965321e",
   "metadata": {},
   "outputs": [],
   "source": [
    "import re"
   ]
  },
  {
   "cell_type": "code",
   "execution_count": 49,
   "id": "0bd22577-eee5-4aa1-92e6-78729439a533",
   "metadata": {},
   "outputs": [
    {
     "name": "stderr",
     "output_type": "stream",
     "text": [
      "<>:1: SyntaxWarning: invalid escape sequence '\\d'\n",
      "<>:1: SyntaxWarning: invalid escape sequence '\\d'\n",
      "/var/folders/cs/_q83y5q12_l815q1j7nj309h0000gn/T/ipykernel_35492/4180046220.py:1: SyntaxWarning: invalid escape sequence '\\d'\n",
      "  numb = re.findall('\\d', a)\n"
     ]
    }
   ],
   "source": [
    "numb = re.findall('\\d', a)"
   ]
  },
  {
   "cell_type": "code",
   "execution_count": 56,
   "id": "80aa6084-46af-41e5-8679-958da22bc740",
   "metadata": {},
   "outputs": [
    {
     "data": {
      "text/plain": [
       "6228"
      ]
     },
     "execution_count": 56,
     "metadata": {},
     "output_type": "execute_result"
    }
   ],
   "source": [
    "int(''.join(numb))"
   ]
  },
  {
   "cell_type": "code",
   "execution_count": 57,
   "id": "bf10ba3c-0ba4-42b7-94d2-7507254076fd",
   "metadata": {},
   "outputs": [
    {
     "ename": "ModuleNotFoundError",
     "evalue": "No module named 'pandas'",
     "output_type": "error",
     "traceback": [
      "\u001b[0;31m---------------------------------------------------------------------------\u001b[0m",
      "\u001b[0;31mModuleNotFoundError\u001b[0m                       Traceback (most recent call last)",
      "Cell \u001b[0;32mIn[57], line 1\u001b[0m\n\u001b[0;32m----> 1\u001b[0m \u001b[38;5;28;01mimport\u001b[39;00m \u001b[38;5;21;01mpandas\u001b[39;00m \u001b[38;5;28;01mas\u001b[39;00m \u001b[38;5;21;01mpd\u001b[39;00m\n\u001b[1;32m      3\u001b[0m df \u001b[38;5;241m=\u001b[39m pd\u001b[38;5;241m.\u001b[39mDataFrame(articles_data)\n\u001b[1;32m      4\u001b[0m df\u001b[38;5;241m.\u001b[39msort_values(\u001b[38;5;124m'\u001b[39m\u001b[38;5;124mviews\u001b[39m\u001b[38;5;124m'\u001b[39m, ascending \u001b[38;5;241m=\u001b[39m \u001b[38;5;28;01mFalse\u001b[39;00m)\n",
      "\u001b[0;31mModuleNotFoundError\u001b[0m: No module named 'pandas'"
     ]
    }
   ],
   "source": [
    "import pandas as pd\n",
    "\n",
    "df = pd.DataFrame(articles_data)\n",
    "df.sort_values('views', ascending = False)"
   ]
  },
  {
   "cell_type": "code",
   "execution_count": null,
   "id": "e0b410ac-f844-4ea7-ab43-17138fe92f4f",
   "metadata": {},
   "outputs": [],
   "source": []
  }
 ],
 "metadata": {
  "kernelspec": {
   "display_name": "Python 3 (ipykernel)",
   "language": "python",
   "name": "python3"
  },
  "language_info": {
   "codemirror_mode": {
    "name": "ipython",
    "version": 3
   },
   "file_extension": ".py",
   "mimetype": "text/x-python",
   "name": "python",
   "nbconvert_exporter": "python",
   "pygments_lexer": "ipython3",
   "version": "3.12.0"
  }
 },
 "nbformat": 4,
 "nbformat_minor": 5
}
